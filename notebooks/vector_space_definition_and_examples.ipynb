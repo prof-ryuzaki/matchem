{
 "cells": [
  {
   "cell_type": "markdown",
   "metadata": {},
   "source": [
    "# Vector space: definition and the weirdest examples I could find\n",
    "\n",
    "Hola mi joven Padawan,\n",
    "\n",
    "voy a refrescarte las nociones básicas sobre espacios vectoriales.\n",
    "\n",
    "<br>\n",
    "\n",
    "Sé que trabajas todos los días con matrices y vectores que representan flechas, eso es genial.\n",
    "\n",
    "Pero después de 5 años desde tu última clase de álgebra, te has metido en movidas cuánticas así que te toca ampliar horizontes.\n",
    "\n",
    "Este tutorial es para recordarte lo básico sobre espacios vectoriales y para presentarte algunos ejemplos raros.\n",
    "\n",
    "No me conformo con enunciarlos.\n",
    "\n",
    "\n",
    "Para cada ejemplo he escrito un pequelo script the Python que los implementa. Espero que los disfrutes.\n",
    "\n",
    "Así, cuando alguien te diga:\n",
    "\n",
    " > «Los estados cuánticos forman un espacio vectorial.»\n",
    " \n",
    "Tú podrás responder con seguridad.\n",
    "\n",
    " > «¡No me asustas, heraldo de Newton! Porque sé que un vector no es solo una flechita.»"
   ]
  },
  {
   "cell_type": "markdown",
   "metadata": {},
   "source": [
    "## Definition\n",
    "\n",
    "A vector space is a non-empty set $V$ that is related to another non-empty set $F$ that we call a **field**. These two sets are also equiped with two binary operators (i.e. functions that take two arguments a yield a single output) that satisfy the properties that we list below.\n",
    "\n",
    "Wikipedia says it this way:\n",
    "\n",
    "> A vector space over a field  $F$ is a non-empty set $V$ together with two binary operations that satisfy the eight axioms listed below.\n",
    "\n",
    "The elements in $V$ are called **vectors** and the elements in $F$ *scalars*. I will denote the former in bold.\n",
    "\n",
    "Let's introduce the two operations before hopping to the axioms:\n",
    "\n",
    "* **Vector addition.** This operator takes two vectors as arguments and yields a new vector: thus for $\\mathbf{v}, \\mathbf{w} \\in V$ their addition $\\operatorname{add}(\\mathbf{v}, \\mathbf{w}) \\in V$. We usually write $\\operatorname{add}(\\mathbf{v}, \\mathbf{w}) = \\mathbf{v} + \\mathbf{w}$, but beware, this is not always the usual addition (at least not in our examples).\n",
    "\n",
    "* **Scalar multiplication.** This operator takes a scalar and a vectors as arguments and yields a new vector: thus for $a\\in F$ and $\\mathbf{v} \\in V$ the scalar multiplicaiton $\\operatorname{mul}(a, \\mathbf{v}) \\in V$. We usually write $\\operatorname{mul}(a, \\mathbf{a}) = a\\mathbf{v}$ or $a\\cdot \\mathbf{v}$, again, not always what you are used to.\n",
    "\n",
    "These operators must satisfy the following axioms for every $\\mathbf{u}$, $\\mathbf{v}$ and $\\mathbf{w}$ in $V$, and $a$ and $b$ in $F$.\n",
    "\n",
    "For addition\n",
    "1. **Associativity** of vector addition.\t\n",
    "$$\\mathbf{u} + (\\mathbf{v} + \\mathbf{w}) = (\\mathbf{u} + \\mathbf{v}) +\\mathbf{w}$$\n",
    "2. **Commutativity** of vector addition.\t\n",
    "$$\\mathbf{u} + \\mathbf{v} = \\mathbf{v} + \\mathbf{u}$$\n",
    "3. **Identity element** of vector addition.\tThere exists an element $\\mathbf{0} \\in V$, called the zero vector, such that \n",
    "$$\\mathbf{v} + \\mathbf{0} = \\mathbf{v} \\text{ for all } \\mathbf{v} \\in V$$\n",
    "4. **Inverse elements** of vector addition.\tFor every $\\mathbf{v} \\in V$, there exists an element $−\\mathbf{v} \\in V$, called the additive inverse of $\\mathbf{v}$, such that \n",
    "$$\\mathbf{v} + (−\\mathbf{v}) = \\mathbf{0}$$\n",
    "\n",
    "\n",
    "For multiplication\n",
    "5. **Compatibility** of scalar multiplication with field multiplication.\t\n",
    "$$a(b\\mathbf{v}) = (ab)\\mathbf{v}$$\n",
    "6. **Identity element** of scalar multiplication. Let $1$ denote the multiplicative identity in $F$, then\n",
    "$$1\\mathbf{v} = \\mathbf{v}$$ \n",
    "7. **Distributivity** of scalar multiplication with respect to vector addition. \n",
    "$$a(\\mathbf{u} + \\mathbf{v}) = a\\mathbf{u} + a\\mathbf{v}$$\n",
    "8. **Distributivity** of scalar multiplication with respect to field addition*.\t\n",
    "$$(a + b)\\mathbf{v} = a\\mathbf{v} + b\\mathbf{v}$$\n",
    "\n",
    "\n",
    "It is convenient to recall what a [field](https://en.wikipedia.org/wiki/Field_%28mathematics%29#Definition) is too."
   ]
  },
  {
   "cell_type": "markdown",
   "metadata": {},
   "source": [
    "## Weird Examples\n",
    "\n",
    "As strange as it may seem, these are vector spaces:\n",
    "\n",
    "1. [Positive real numbers](#positive-real-numbers).\n",
    "2. [Finite degree polynomial](#finite-degree-polynomials).\n",
    "3. [Bit strings](#bit-strings).\n",
    "\n",
    "I will define them and you will quickly see that they are so.\n",
    "\n",
    "But, I know that you may not trust me, because I am a physicist.\n",
    "\n",
    "I will also give you some scripts, so that you can test them.\n",
    "\n",
    "I hope you appreciate it.\n",
    "\n",
    "_Let's go!_"
   ]
  },
  {
   "cell_type": "markdown",
   "metadata": {},
   "source": [
    "<a id=\"positive-real-numbers\"></a>\n",
    "### Weird Example 1: Positive real numbers\n",
    "\n",
    "Yep!\n",
    "\n",
    "The numbers on their own can also form a vector space.\n",
    "\n",
    "It's cool.\n",
    "\n",
    "Define the set of positive real numbers $\\mathbb{R}_{>0}=(0, \\infty)$ and the whole set of real numbers $\\mathbb{R}$. Our first weird example is...\n",
    "\n",
    "> The vector space of positive real numbers $\\mathbb{R}_{>0}$ over the field of the real numbers $\\mathbb{R}$.\n",
    "\n",
    "Please, keep prejudices aside.\n",
    "\n",
    "The catch is that for it to work we need this (weird) convention:\n",
    "\n",
    "* **Scalar multiplicaiton** is numerical exponentiation.\n",
    "\n",
    "Let $k\\in \\mathbb{R}$ be a real number (here as a scalar), and $\\mathbf{u} \\in \\mathbb{R}_{>0}$ a positive number ($u>0$, here as a vector).\n",
    "\n",
    "Their multipliation yields\n",
    "\n",
    "$$k\\cdot \\mathbf{u}=\\mathbf{u^k}\\in \\mathbb{R}_{>0}$$\n",
    "\n",
    "Which is represents the positive number $u^k$ as a vector!\n",
    "\n",
    "* **Vector addition** is numerical multiplication.\n",
    "\n",
    "Let $\\mathbf{u}, \\mathbf{w} \\in \\mathbb{R}_{>0}$ be two vectors, representing the positive numbers $u>0$ and $w>0$.\n",
    "\n",
    "Their addition\n",
    "$$\\mathbf{u} + \\mathbf{w}=\\mathbf{uw}\\in \\mathbb{R}_{>0}$$\n",
    "\n",
    "Is again a positive number $u w>0$ in vector form.\n",
    "\n",
    "* $\\mathbf{1}$ will be our **zero vector**.\n",
    "\n",
    "I am not crazy. Note that $\\mathbf{u} + \\mathbf{1}=\\mathbf{u}$.\n",
    "\n",
    "You can verify the 8 axioms on your own.\n",
    "\n",
    "_But my goal here is to give insights._"
   ]
  },
  {
   "cell_type": "code",
   "execution_count": 1,
   "metadata": {},
   "outputs": [],
   "source": [
    "class VecPossitiveReal:\n",
    "    \n",
    "    def __init__(self, number):\n",
    "        assert number > 0\n",
    "        self.number = number\n",
    "        \n",
    "    def __add__(self, other_vector):\n",
    "        assert isinstance(other_vector, VecPossitiveReal)\n",
    "        return VecPossitiveReal(self.number * other_vector.number)\n",
    "    \n",
    "    def __mul__(self, scalar):\n",
    "        assert isinstance(scalar, ScalarReal)\n",
    "        return VecPossitiveReal(self.number ** scalar.number)\n",
    "    \n",
    "    def __repr__(self):\n",
    "        return f\"VecPossitiveReal({str(self.number)})\"\n",
    "    \n",
    "    def __str__(self):\n",
    "        return self.__repr__()\n",
    "\n",
    "    \n",
    "class ScalarReal:\n",
    "    \n",
    "    def __init__(self, number):\n",
    "        assert isinstance(number, float)\n",
    "        self.number = number\n",
    "        \n",
    "    def __add__(self, other_scalar):\n",
    "        assert isinstance(other_scalar, ScalarReal)\n",
    "        return ScalarReal(self.number + other_scalar.number)\n",
    "    \n",
    "    def __mul__(self, other):\n",
    "        if isinstance(other, ScalarReal):\n",
    "            return ScalarReal(self.number * other.number)\n",
    "        elif isinstance(other, VecPossitiveReal):\n",
    "            return other * self\n",
    "        else:\n",
    "            raise TypeError(f\"unsupported operand type(s) for *: 'ScalarReal' and '{type(other)}'\")\n",
    "            \n",
    "    def __repr__(self):\n",
    "        return f\"ScalarReal({str(self.number)})\"\n",
    "    \n",
    "    def __str__(self):\n",
    "        return self.__repr__()"
   ]
  },
  {
   "cell_type": "code",
   "execution_count": 2,
   "metadata": {},
   "outputs": [],
   "source": [
    "v = VecPossitiveReal(14)\n",
    "w = VecPossitiveReal(3)\n",
    "\n",
    "zero = VecPossitiveReal(1)\n",
    "\n",
    "k = ScalarReal(4.0)\n",
    "p = ScalarReal(-6.0)"
   ]
  },
  {
   "cell_type": "code",
   "execution_count": 3,
   "metadata": {},
   "outputs": [
    {
     "data": {
      "text/plain": [
       "(VecPossitiveReal(14), VecPossitiveReal(3))"
      ]
     },
     "execution_count": 3,
     "metadata": {},
     "output_type": "execute_result"
    }
   ],
   "source": [
    "# Let's check that the zero vector works as it should\n",
    "v+zero, w + zero"
   ]
  },
  {
   "cell_type": "code",
   "execution_count": 4,
   "metadata": {},
   "outputs": [
    {
     "data": {
      "text/plain": [
       "VecPossitiveReal(42)"
      ]
     },
     "execution_count": 4,
     "metadata": {},
     "output_type": "execute_result"
    }
   ],
   "source": [
    "# The vector addition\n",
    "v+w"
   ]
  },
  {
   "cell_type": "code",
   "execution_count": 5,
   "metadata": {},
   "outputs": [
    {
     "data": {
      "text/plain": [
       "(VecPossitiveReal(38416.0),\n",
       " VecPossitiveReal(81.0),\n",
       " VecPossitiveReal(3111696.0))"
      ]
     },
     "execution_count": 5,
     "metadata": {},
     "output_type": "execute_result"
    }
   ],
   "source": [
    "# Scalar multiplication\n",
    "k*v, k*w, k*(w+v)"
   ]
  },
  {
   "cell_type": "code",
   "execution_count": 6,
   "metadata": {},
   "outputs": [
    {
     "data": {
      "text/plain": [
       "(VecPossitiveReal(1.328103086299076e-07),\n",
       " VecPossitiveReal(0.0013717421124828531),\n",
       " VecPossitiveReal(1.8218149331948917e-10))"
      ]
     },
     "execution_count": 6,
     "metadata": {},
     "output_type": "execute_result"
    }
   ],
   "source": [
    "# More scalar multiplication\n",
    "p*v, p*w, p*(w+v)"
   ]
  },
  {
   "cell_type": "code",
   "execution_count": 7,
   "metadata": {
    "scrolled": true
   },
   "outputs": [
    {
     "data": {
      "text/plain": [
       "(VecPossitiveReal(0.1111111111111111),\n",
       " VecPossitiveReal(0.1111111111111111),\n",
       " VecPossitiveReal(3111696.0),\n",
       " VecPossitiveReal(3111696.0))"
      ]
     },
     "execution_count": 7,
     "metadata": {},
     "output_type": "execute_result"
    }
   ],
   "source": [
    "# Note that the following are equal:\n",
    "(k+p)*w, k*w + p*w, k*(v+w), k*v + k*w"
   ]
  },
  {
   "cell_type": "markdown",
   "metadata": {},
   "source": [
    "<a id=\"finite-degree-polynomials\"></a>\n",
    "### Weird Example 2: The space of polynomials\n",
    "\n",
    "This example blowed my mind.\n",
    "\n",
    "And it did so because it is the first USEFUL example that felt STRANGE to me.\n",
    "\n",
    "Let's do a quick recall, a function $P(x)$ is a polynomial if we can write it in the form:\n",
    "$$\n",
    "P(x)=a_1+a_2 x^2 + ... + a_n x^n\n",
    "$$\n",
    "which is a sequence of powers of the argument.\n",
    "\n",
    "These set is usually denoted $\\mathbb{R}[x]$ when the coefficients are real and $\\mathbb{C}[x]$ when they are complex.\n",
    "\n",
    "An important attribute of $P(x)$ is it's **degree**:\n",
    "\n",
    "It is determined by the nonzero coefficient with higher order in the power of the argument. Here if $a_n\\neq 0$ then $P(x)$ is a polynomial of degree $n$.\n",
    "\n",
    "Somethimes the function can be writen as an infinite series. Then the order wouln't be finite. But here we will work with finite polynomials.\n",
    "\n",
    "Hope you got it! Our second weird vector space is...\n",
    "\n",
    "> The vector space of finite-degree polynomials with real coefficients over the field of real numbers.\n",
    "\n",
    "* **Vector addition:** the usual addition of polynomials. Note that if\n",
    "$$\n",
    "P(x)=a_1+a_2 x^2 + ... + a_n x^n \\quad \\text{and} \\quad\n",
    "Q(x)=b_1+b_2 x^2 + ... + b_n x^n\n",
    "$$\n",
    "then \n",
    "$$\n",
    "P(x)+Q(x)=(a_1+b_1)+(a_2+b_2) x^2 + ... + (a_n+b_n)  x^n\n",
    "$$\n",
    "so addition always returns a polynomial of, at most, degree $n$.\n",
    "\n",
    "* **Scalar multiplication:** multiplication of a polynomial by a real number $k$ is the multiplication of each coefficient:\n",
    "$$\n",
    "k P(x)= k a_1+k a_2 x^2 + ... + k a_n  x^n\n",
    "$$\n",
    "\n",
    "These operations are quite familiars, so it should be easy for you to check that the 8 axioms hold.\n",
    "\n",
    "Now, let me show you why I _love_ the space of polynomials:"
   ]
  },
  {
   "cell_type": "code",
   "execution_count": 8,
   "metadata": {},
   "outputs": [],
   "source": [
    "# Will use these packages to make plots\n",
    "# If you get into truble installing them, send me a message\n",
    "import numpy as np\n",
    "import matplotlib.pyplot as plt"
   ]
  },
  {
   "cell_type": "code",
   "execution_count": 9,
   "metadata": {},
   "outputs": [],
   "source": [
    "class ScalarReal:\n",
    "    \n",
    "    def __init__(self, number):\n",
    "        assert isinstance(number, float)\n",
    "        self.number = number\n",
    "        \n",
    "    def __add__(self, other_scalar):\n",
    "        assert isinstance(other_scalar, ScalarReal)\n",
    "        return ScalarReal(self.number + other_scalar.number)\n",
    "    \n",
    "    def __mul__(self, other):\n",
    "        if isinstance(other, ScalarReal):\n",
    "            return ScalarReal(self.number * other.number)\n",
    "        elif isinstance(other, VecPolynomial):\n",
    "            return other * self\n",
    "        elif isinstance(other, (int, float, np.ndarray)):\n",
    "            return other * self.number\n",
    "        else:\n",
    "            raise TypeError(f\"unsupported operand type(s) for *: 'ScalarReal' and '{type(other)}'\")\n",
    "            \n",
    "    def __repr__(self):\n",
    "        return f\"ScalarReal({str(self.number)})\"\n",
    "    \n",
    "    def __str__(self):\n",
    "        return str(self.number)\n",
    "    \n",
    "class VecPolynomial:\n",
    "        \n",
    "    def __init__(self, coefficients, label):\n",
    "\n",
    "        assert isinstance(coefficients, list)\n",
    "        assert isinstance(label, str)\n",
    "        \n",
    "        if all([isinstance(coeff, ScalarReal) for coeff in coefficients]):\n",
    "            self.coefficients = coefficients.copy()\n",
    "        elif all([isinstance(coeff, float) for coeff in coefficients]):\n",
    "            self.coefficients = [ScalarReal(coeff) for coeff in coefficients]\n",
    "        else:\n",
    "            raise TypeError(\"coefficients must be all 'ScalarReal' or 'float'.\")\n",
    "        \n",
    "        # will assume that all coefficients are non-zero\n",
    "        self.degree = len(self.coefficients)\n",
    "        \n",
    "        self.label = label\n",
    "    \n",
    "    def set_label(self, label):\n",
    "        assert isinstance(label, str)\n",
    "        self.label = label\n",
    "        \n",
    "    def __add__(self, other_vector):\n",
    "        assert isinstance(other_vector, VecPolynomial)\n",
    "        \n",
    "        # check degree and asing\n",
    "        # a <- higher degree\n",
    "        # b <- lower degree\n",
    "        if self.degree >= other_vector.degree:\n",
    "            a = self\n",
    "            b = other_vector\n",
    "        else:\n",
    "            a = other_vector\n",
    "            b = self\n",
    "        \n",
    "        # zip will ignore coeffs exceding the lower degree\n",
    "        new_coefficients = [acoeff + bcoeff for acoeff, bcoeff in zip(a.coefficients, b.coefficients)]\n",
    "        \n",
    "        # now just add the ones that are left\n",
    "        new_coefficients = new_coefficients + a.coefficients[b.degree:]\n",
    "        if len(other_vector.label) > 0:\n",
    "            return VecPolynomial(new_coefficients, label=self.label+'+'+other_vector.label)\n",
    "        else:\n",
    "            return VecPolynomial(new_coefficients, label=self.label)\n",
    "    \n",
    "    def __mul__(self, scalar):\n",
    "        assert isinstance(scalar, ScalarReal)\n",
    "        new_coefficients = [scalar * coeff for coeff in self.coefficients]\n",
    "        if '+' in self.label:\n",
    "            return VecPolynomial(new_coefficients, label=f\"{scalar.number} * ({self.label})\")\n",
    "        else:\n",
    "            return VecPolynomial(new_coefficients, label=f\"{scalar.number} * {self.label}\")\n",
    "    \n",
    "    def __repr__(self):\n",
    "        return f\"VecPolynomial({[coeff.number for coeff in self.coefficients]}, {self.label})\"\n",
    "    \n",
    "    def __str__(self):\n",
    "        return self.__repr__()\n",
    "    \n",
    "    def evaluate(self, x):\n",
    "        p_of_x = sum([coeff * x ** k for k, coeff in enumerate(self.coefficients)])\n",
    "        return p_of_x\n",
    "    \n",
    "    def plot_polynomial(self, xmin=-1, xmax=1):\n",
    "        x_array = np.linspace(xmin, xmax)\n",
    "        return plt.plot(x_array, self.evaluate(x_array), label=self.label)"
   ]
  },
  {
   "cell_type": "code",
   "execution_count": 10,
   "metadata": {},
   "outputs": [],
   "source": [
    "p = VecPolynomial([1., 13., .5,-6.], 'p(x)')\n",
    "q = VecPolynomial([3.,-.75,3.], 'q(x)')\n",
    "\n",
    "zero = VecPolynomial([], '')\n",
    "\n",
    "k = ScalarReal(4.)\n",
    "j = ScalarReal(-6.)"
   ]
  },
  {
   "cell_type": "code",
   "execution_count": 11,
   "metadata": {
    "scrolled": true
   },
   "outputs": [
    {
     "data": {
      "image/png": "[encoded data removed]",
      "text/plain": [
       "<Figure size 432x288 with 1 Axes>"
      ]
     },
     "metadata": {
      "needs_background": "light"
     },
     "output_type": "display_data"
    },
    {
     "name": "stdout",
     "output_type": "stream",
     "text": [
      "VecPolynomial([1.0, 13.0, 0.5, -6.0], p(x))\n",
      "VecPolynomial([3.0, -0.75, 3.0], q(x))\n"
     ]
    }
   ],
   "source": [
    "# We can plot them!\n",
    "p.plot_polynomial()\n",
    "q.plot_polynomial()\n",
    "plt.legend()\n",
    "plt.show()\n",
    "print(p)\n",
    "print(q)"
   ]
  },
  {
   "cell_type": "code",
   "execution_count": 12,
   "metadata": {},
   "outputs": [
    {
     "data": {
      "text/plain": [
       "(VecPolynomial([1.0, 13.0, 0.5, -6.0], p(x)),\n",
       " VecPolynomial([3.0, -0.75, 3.0], q(x)))"
      ]
     },
     "execution_count": 12,
     "metadata": {},
     "output_type": "execute_result"
    }
   ],
   "source": [
    "# Let's check that the zero vector works as it should\n",
    "p+zero, q + zero"
   ]
  },
  {
   "cell_type": "code",
   "execution_count": 13,
   "metadata": {
    "scrolled": true
   },
   "outputs": [
    {
     "data": {
      "image/png": "[encoded data removed]",
      "text/plain": [
       "<Figure size 432x288 with 1 Axes>"
      ]
     },
     "metadata": {
      "needs_background": "light"
     },
     "output_type": "display_data"
    },
    {
     "name": "stdout",
     "output_type": "stream",
     "text": [
      "VecPolynomial([1.0, 13.0, 0.5, -6.0], p(x))\n",
      "VecPolynomial([3.0, -0.75, 3.0], q(x))\n",
      "VecPolynomial([4.0, 12.25, 3.5, -6.0], p(x)+q(x))\n"
     ]
    }
   ],
   "source": [
    "# The vector addition\n",
    "\n",
    "r = p+q\n",
    "p.plot_polynomial()\n",
    "q.plot_polynomial()\n",
    "\n",
    "r.plot_polynomial()\n",
    "\n",
    "plt.legend()\n",
    "plt.show()\n",
    "\n",
    "print(p, q, r, sep='\\n')"
   ]
  },
  {
   "cell_type": "code",
   "execution_count": 14,
   "metadata": {},
   "outputs": [
    {
     "data": {
      "image/png": "[encoded data removed]",
      "text/plain": [
       "<Figure size 432x288 with 1 Axes>"
      ]
     },
     "metadata": {
      "needs_background": "light"
     },
     "output_type": "display_data"
    },
    {
     "name": "stdout",
     "output_type": "stream",
     "text": [
      "VecPolynomial([4.0, 52.0, 2.0, -24.0], 4.0 * p(x))\n",
      "VecPolynomial([12.0, -3.0, 12.0], 4.0 * q(x))\n",
      "VecPolynomial([16.0, 49.0, 14.0, -24.0], 4.0 * (p(x)+q(x)))\n"
     ]
    }
   ],
   "source": [
    "# Scalar multiplication\n",
    "r1=k*p\n",
    "r2=k*q\n",
    "r3=k*(p+q)\n",
    "\n",
    "r1.plot_polynomial()\n",
    "r2.plot_polynomial()\n",
    "r3.plot_polynomial()\n",
    "\n",
    "plt.legend()\n",
    "plt.show()\n",
    "\n",
    "print(r1, r2, r3, sep='\\n')"
   ]
  },
  {
   "cell_type": "code",
   "execution_count": 15,
   "metadata": {},
   "outputs": [
    {
     "data": {
      "image/png": "[encoded data removed]",
      "text/plain": [
       "<Figure size 432x288 with 1 Axes>"
      ]
     },
     "metadata": {
      "needs_background": "light"
     },
     "output_type": "display_data"
    },
    {
     "name": "stdout",
     "output_type": "stream",
     "text": [
      "VecPolynomial([-6.0, -78.0, -3.0, 36.0], -6.0 * p(x))\n",
      "VecPolynomial([-18.0, 4.5, -18.0], -6.0 * q(x))\n",
      "VecPolynomial([-24.0, -73.5, -21.0, 36.0], -6.0 * (p(x)+q(x)))\n"
     ]
    }
   ],
   "source": [
    "# More scalar multiplication\n",
    "r1=j*p\n",
    "r2=j*q\n",
    "r3=j*(p+q)\n",
    "\n",
    "r1.plot_polynomial()\n",
    "r2.plot_polynomial()\n",
    "r3.plot_polynomial()\n",
    "\n",
    "plt.legend()\n",
    "plt.show()\n",
    "\n",
    "print(r1, r2, r3, sep='\\n')"
   ]
  },
  {
   "cell_type": "code",
   "execution_count": 16,
   "metadata": {
    "scrolled": true
   },
   "outputs": [
    {
     "data": {
      "text/plain": [
       "(VecPolynomial([-2.0, -26.0, -1.0, 12.0], -2.0 * p(x)),\n",
       " VecPolynomial([-2.0, -26.0, -1.0, 12.0], 4.0 * p(x)+-6.0 * p(x)),\n",
       " VecPolynomial([16.0, 49.0, 14.0, -24.0], 4.0 * (p(x)+q(x))),\n",
       " VecPolynomial([16.0, 49.0, 14.0, -24.0], 4.0 * p(x)+4.0 * q(x)))"
      ]
     },
     "execution_count": 16,
     "metadata": {},
     "output_type": "execute_result"
    }
   ],
   "source": [
    "# Note that the following are equal:\n",
    "(k+j)*p, k*p + j*p, k*(p+q), k*p + k*q"
   ]
  },
  {
   "cell_type": "markdown",
   "metadata": {},
   "source": [
    "<a id=\"bit-strings\"></a>\n",
    "### Weird Example 3: The space of bit strings\n",
    "\n",
    "A bit can either be `0` or `1`.\n",
    "\n",
    "Given bits `x` and `y`, their multiplication and addition is defined by following these tables:\n",
    "\n",
    "|`x` | `y` | `xy`| \n",
    "|---|---|---|\n",
    "|0 | 0 | 0|\n",
    "|0 | 1 | 0|\n",
    "|1 | 0 | 0|\n",
    "|1 | 1 | 1|\n",
    "\n",
    "\n",
    "|`x` | `y` | `x+y`|\n",
    "|---|---|---|\n",
    "|0 | 0 | 0|\n",
    "|0 | 1 | 1|\n",
    "|1 | 0 | 1|\n",
    "|1 | 1 | 0|\n",
    "\n",
    "If we let `0` represent the boolean value `False`, and `1` the boolean value `True`. Their multiplication is just the `and` operation and addition is the `exclusive or` (`xor` for short):\n",
    "\n",
    " * `xy = x and y` will only be `True` if both `x` AND `y` are true.\n",
    "\n",
    " * `x+y = x xor y` to be `True` ONLY one of them has to be true.\n",
    "\n",
    "Thus the bit is a filed, and we can use it to construct a vector space:\n",
    "\n",
    "> The space of $n$-bit strings over the field of the binary digit (bit).\n",
    "\n",
    "* **Vector addition:** bit-by-bit addition. Let $x=x_1x_2...x_n$ be a bit string with value $x_j$ for the $j$th bit, and $y=y_1y_2...y_n$ be another bit string, then:\n",
    "$$\n",
    "x + y = (x_1+y_1)(x_2+y_2)...(x_n+y_n)\n",
    "$$\n",
    "\n",
    "* **Scalar multiplication:** bit-by-bit multiplication. Note that this is pretty simple. When $k=0$ for any $n$-bit string $x$ we get\n",
    "$$\n",
    "k x = 00...0\n",
    "$$\n",
    "and when $k=1$\n",
    "$$\n",
    "k x = x\n",
    "$$\n",
    "\n",
    "Again, I'll let you check that the 8 axioms hold and will just dive into the example:"
   ]
  },
  {
   "cell_type": "code",
   "execution_count": 17,
   "metadata": {},
   "outputs": [],
   "source": [
    "class ScalarBit:\n",
    "    \n",
    "    def __init__(self, bit):\n",
    "        if isinstance(bit, ScalarBit):\n",
    "            self.bit = bit.bit\n",
    "        else:\n",
    "            assert isinstance(bit, (int, str))\n",
    "            assert (int(bit) is 0) or (int(bit) is 1)\n",
    "            self.bit = int(bit)\n",
    "        \n",
    "    def __add__(self, other_scalar):\n",
    "        assert isinstance(other_scalar, ScalarBit)\n",
    "        return ScalarBit((self.bit + other_scalar.bit) % 2)\n",
    "    \n",
    "    def __mul__(self, other):\n",
    "        if isinstance(other, ScalarBit):\n",
    "            return ScalarBit(self.bit * other.bit)\n",
    "        elif isinstance(other, VecBitString):\n",
    "            return other * self\n",
    "        else:\n",
    "            raise TypeError(f\"unsupported operand type(s) for *: 'ScalarBit' and '{type(other)}'\")\n",
    "            \n",
    "    def __repr__(self):\n",
    "        return f\"ScalarBit({str(self.bit)})\"\n",
    "    \n",
    "    def __str__(self):\n",
    "        return str(self.bit)\n",
    "\n",
    "class VecBitString:\n",
    "    \n",
    "    def __init__(self, bitstring):\n",
    "        assert isinstance(bitstring, (str, list))\n",
    "        \n",
    "        self.bitstring = list(ScalarBit(bit) for bit in bitstring)\n",
    "        self.length = len(bitstring)\n",
    "        \n",
    "    def __add__(self, other_vector):\n",
    "        assert isinstance(other_vector, VecBitString)\n",
    "        assert self.length == other_vector.length\n",
    "        return VecBitString([selfbit + otherbit for selfbit, otherbit in zip(self.bitstring, other_vector.bitstring)])\n",
    "    \n",
    "    def __mul__(self, scalar):\n",
    "        assert isinstance(scalar, ScalarBit)\n",
    "        if scalar.bit == 1:\n",
    "            return VecBitString(self.bitstring)\n",
    "        else:\n",
    "            return VecBitString([0] * self.length)\n",
    "    \n",
    "    def __repr__(self):\n",
    "        return f\"VecBitString('{''.join([str(bit) for bit in self.bitstring])}')\"\n",
    "    \n",
    "    def __str__(self):\n",
    "        return self.__repr__()"
   ]
  },
  {
   "cell_type": "code",
   "execution_count": 18,
   "metadata": {},
   "outputs": [],
   "source": [
    "x = VecBitString('01010111100111')\n",
    "y = VecBitString('01100001101011')\n",
    "\n",
    "zerovec = VecBitString('0'*x.length)\n",
    "\n",
    "one = ScalarBit(1)\n",
    "zero = ScalarBit(0)"
   ]
  },
  {
   "cell_type": "code",
   "execution_count": 19,
   "metadata": {},
   "outputs": [
    {
     "data": {
      "text/plain": [
       "(VecBitString('01010111100111'), VecBitString('01100001101011'))"
      ]
     },
     "execution_count": 19,
     "metadata": {},
     "output_type": "execute_result"
    }
   ],
   "source": [
    "# Let's check that the zero vector works as it should\n",
    "x+zerovec, y + zerovec"
   ]
  },
  {
   "cell_type": "code",
   "execution_count": 20,
   "metadata": {},
   "outputs": [
    {
     "data": {
      "text/plain": [
       "VecBitString('00110110001100')"
      ]
     },
     "execution_count": 20,
     "metadata": {},
     "output_type": "execute_result"
    }
   ],
   "source": [
    "# The vector addition\n",
    "x+y"
   ]
  },
  {
   "cell_type": "code",
   "execution_count": 21,
   "metadata": {},
   "outputs": [
    {
     "data": {
      "text/plain": [
       "(VecBitString('01010111100111'),\n",
       " VecBitString('01100001101011'),\n",
       " VecBitString('00110110001100'))"
      ]
     },
     "execution_count": 21,
     "metadata": {},
     "output_type": "execute_result"
    }
   ],
   "source": [
    "# Scalar multiplication\n",
    "one*x, one*y, one*(x+y)"
   ]
  },
  {
   "cell_type": "code",
   "execution_count": 22,
   "metadata": {},
   "outputs": [
    {
     "data": {
      "text/plain": [
       "(VecBitString('00000000000000'),\n",
       " VecBitString('00000000000000'),\n",
       " VecBitString('00000000000000'))"
      ]
     },
     "execution_count": 22,
     "metadata": {},
     "output_type": "execute_result"
    }
   ],
   "source": [
    "# More scalar multiplication\n",
    "zero*x, zero*y, zero*(x+y)"
   ]
  },
  {
   "cell_type": "code",
   "execution_count": 23,
   "metadata": {
    "scrolled": true
   },
   "outputs": [
    {
     "data": {
      "text/plain": [
       "(VecBitString('01010111100111'),\n",
       " VecBitString('01010111100111'),\n",
       " VecBitString('00110110001100'),\n",
       " VecBitString('00110110001100'))"
      ]
     },
     "execution_count": 23,
     "metadata": {},
     "output_type": "execute_result"
    }
   ],
   "source": [
    "# Note that the following are equal:\n",
    "(one+zero)*x, one*x + zero*x, one*(x+y), one*x + one*y"
   ]
  }
 ],
 "metadata": {
  "kernelspec": {
   "display_name": "Python 3",
   "language": "python",
   "name": "python3"
  },
  "language_info": {
   "codemirror_mode": {
    "name": "ipython",
    "version": 3
   },
   "file_extension": ".py",
   "mimetype": "text/x-python",
   "name": "python",
   "nbconvert_exporter": "python",
   "pygments_lexer": "ipython3",
   "version": "3.7.2"
  }
 },
 "nbformat": 4,
 "nbformat_minor": 2
}
