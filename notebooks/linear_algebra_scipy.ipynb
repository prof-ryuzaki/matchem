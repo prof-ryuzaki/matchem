{
 "cells": [
  {
   "cell_type": "markdown",
   "metadata": {},
   "source": [
    "# Linear algebra with scipy\n",
    "\n",
    "Voy directo a las buenas noticias:\n",
    "\n",
    "> La librería `linalg` de `scipy` tiene todo lo que puedas necesitar en lo que respecta a funciones para álgebra lineal.\n",
    "\n",
    "¿Determinantes?\n",
    "\n",
    "Hecho.\n",
    "\n",
    "<br>\n",
    "\n",
    "¿Valores y vectores propios?\n",
    "\n",
    "Hecho.\n",
    "\n",
    "<br>\n",
    "\n",
    "¿Exponencial de una matriz?\n",
    "\n",
    "Hecho.\n",
    "\n",
    "<br>\n",
    "\n",
    "Y un largo etc.\n",
    "\n",
    "_Vamos con el resumen de las más útiles:_"
   ]
  },
  {
   "cell_type": "code",
   "execution_count": 1,
   "metadata": {},
   "outputs": [],
   "source": [
    "import numpy as np\n",
    "from scipy import linalg"
   ]
  },
  {
   "cell_type": "markdown",
   "metadata": {},
   "source": [
    "## Content\n",
    "\n",
    "1. [Determinant](#determinant)\n",
    "2. [Norm](#norm)\n",
    "3. [Inverse](#inverse)\n",
    "4. [Kronecker product](#kronecker-product)\n",
    "5. [Solving linear equations](#solving-linear-equations)\n",
    "6. [Eigenvalue problems](#eigenvalue-problems)\n",
    "4. [Matrix functions](#matrix-functions)\n",
    "5. [Further reading](#further-reading)"
   ]
  },
  {
   "cell_type": "markdown",
   "metadata": {},
   "source": [
    "Let's define a vector $v$ and a matrix $M$:"
   ]
  },
  {
   "cell_type": "code",
   "execution_count": 2,
   "metadata": {},
   "outputs": [],
   "source": [
    "v = np.array([1,3.4,-6,.025,73])\n",
    "M = np.array([[0.70, 0.62, 5.96, 0.11, 0.20],\n",
    "                [0.36, 4.35, 0.72, -22.89, 0.85],\n",
    "                [-7.75, -3.18, 3.76, 0.91, 0.03],\n",
    "                [0.21, -0.97, 0.12, 0.78, 13.01],\n",
    "                [4.94, 1.60, 0.70, 14.26, 0.50]])"
   ]
  },
  {
   "cell_type": "markdown",
   "metadata": {},
   "source": [
    "<a id=\"determinant\"></a>\n",
    "## Determinant\n",
    "To compute the determinant of the matrix $\\det M$:"
   ]
  },
  {
   "cell_type": "code",
   "execution_count": 3,
   "metadata": {},
   "outputs": [
    {
     "data": {
      "text/plain": [
       "-31366.266422286597"
      ]
     },
     "execution_count": 3,
     "metadata": {},
     "output_type": "execute_result"
    }
   ],
   "source": [
    "linalg.det(M)"
   ]
  },
  {
   "cell_type": "markdown",
   "metadata": {},
   "source": [
    "<a id=\"norm\"></a>\n",
    "## Norm\n",
    "\n",
    "The norm of a vector $\\Vert v\\Vert$ and a matrix $\\Vert M\\Vert$, is particularly useful to measure its \"magnitude\".\n",
    "\n",
    "Roughly, the smaller the norm, the nearer the zero vector or matrix it is."
   ]
  },
  {
   "cell_type": "code",
   "execution_count": 4,
   "metadata": {},
   "outputs": [
    {
     "data": {
      "text/plain": [
       "73.33185273126543"
      ]
     },
     "execution_count": 4,
     "metadata": {},
     "output_type": "execute_result"
    }
   ],
   "source": [
    "linalg.norm(v)"
   ]
  },
  {
   "cell_type": "code",
   "execution_count": 5,
   "metadata": {},
   "outputs": [
    {
     "data": {
      "text/plain": [
       "32.67650226079897"
      ]
     },
     "execution_count": 5,
     "metadata": {},
     "output_type": "execute_result"
    }
   ],
   "source": [
    "linalg.norm(M)"
   ]
  },
  {
   "cell_type": "markdown",
   "metadata": {},
   "source": [
    "Defaults to Frobenius norm for matrices and 2-norm for vectors, that is\n",
    "\n",
    "$$\n",
    "\\Vert v \\Vert = \\sqrt{\\sum_{i=1}^n \\vert v_i\\vert^2}=\n",
    "\\sqrt{\\vert v_1\\vert^2 + ... + \\vert v_n\\vert^2}\n",
    "$$ \n",
    "\n",
    "$$\n",
    "\\Vert M \\Vert = \\sqrt{\\sum_{i=1}^n \\sum_{j=1}^m \\vert m_{ij}\\vert^2}=\n",
    "\\sqrt{\\operatorname{Tr} M^{\\dagger} M}\n",
    "$$\n",
    "\n",
    "For more norms you can check the documentation of the function."
   ]
  },
  {
   "cell_type": "markdown",
   "metadata": {},
   "source": [
    "<a id=\"inverse\"></a>\n",
    "## Inverse\n",
    "\n",
    "The conventional inverse of a matrix $M^{-1}$ which satisfies $M^{-1}M=M M^{-1}=I$:"
   ]
  },
  {
   "cell_type": "code",
   "execution_count": 6,
   "metadata": {},
   "outputs": [
    {
     "data": {
      "text/plain": [
       "2.0025314384467967e-15"
      ]
     },
     "execution_count": 6,
     "metadata": {},
     "output_type": "execute_result"
    }
   ],
   "source": [
    "Minv = linalg.inv(M)\n",
    "linalg.norm(Minv @ M-np.identity(M.shape[0]))"
   ]
  },
  {
   "cell_type": "markdown",
   "metadata": {},
   "source": [
    "We can also compute the Moore-Penrose pseudo-inverse with `linalg.pinv`, which is a generalization of the inverse for non-invertible matrices."
   ]
  },
  {
   "cell_type": "markdown",
   "metadata": {},
   "source": [
    "<a id=\"kronecker-product\"></a>\n",
    "## Kronecker product\n",
    "\n",
    "This is very widely used in quantum mechanics.\n",
    "\n",
    "Given a $m\\times n$ matrix $A$ and a $p \\times q$ matrix B it returns the $mp \\times nq$ matrix:\n",
    "\n",
    "$$\n",
    "A\\otimes B=\n",
    "\\begin{pmatrix}\n",
    "a_{11} B & ... & a_{1n} B \\\\\n",
    "\\vdots & \\ddots & \\vdots \\\\\n",
    "a_{m1} B & ... & a_{mn} B \\\\\n",
    "\\end{pmatrix}\n",
    "$$"
   ]
  },
  {
   "cell_type": "code",
   "execution_count": 7,
   "metadata": {},
   "outputs": [
    {
     "data": {
      "text/plain": [
       "array([[ 10,  14,  15,  21],\n",
       "       [ 14,   0,  21,   0],\n",
       "       [-15, -21,  20,  28],\n",
       "       [-21,   0,  28,   0]])"
      ]
     },
     "execution_count": 7,
     "metadata": {},
     "output_type": "execute_result"
    }
   ],
   "source": [
    "A = np.array([[2,3],[-3,4]])\n",
    "B = np.array([[5,7],[7,0]])\n",
    "\n",
    "np.kron(A, B)"
   ]
  },
  {
   "cell_type": "markdown",
   "metadata": {},
   "source": [
    "<a id=\"solving-linear-equations\"></a>\n",
    "## Solving linear equations\n",
    "\n",
    "The `linalg.solve` function can be used to solve the linear equation \n",
    "\n",
    "$$\n",
    "A x = b\n",
    "$$"
   ]
  },
  {
   "cell_type": "code",
   "execution_count": 8,
   "metadata": {},
   "outputs": [
    {
     "data": {
      "text/plain": [
       "1.3721997354362565e-14"
      ]
     },
     "execution_count": 8,
     "metadata": {},
     "output_type": "execute_result"
    }
   ],
   "source": [
    "x = linalg.solve(M, v)\n",
    "linalg.norm(M @ x-v)"
   ]
  },
  {
   "cell_type": "markdown",
   "metadata": {},
   "source": [
    "There are specific functions for banded matrices, Hermitian positive definite banded matrices, triangular matrices...\n",
    "\n",
    "They will be more efficient. But should only be used when you are certain that the matrix satisfies that condition."
   ]
  },
  {
   "cell_type": "markdown",
   "metadata": {},
   "source": [
    "`linalg.lstsq` provides the least squares solution to the equation $Ax=B$, that is, finds $x$ such that it minimizes\n",
    "\n",
    "$$\\Vert Ax - b\\Vert^2 = \\sum_{i=1}^n \\vert (Ax)_i-b_i\\vert^2$$\n",
    "\n",
    "For example:"
   ]
  },
  {
   "cell_type": "code",
   "execution_count": 9,
   "metadata": {},
   "outputs": [],
   "source": [
    "# random 5 x 30 matrix\n",
    "# with entries from -10 to 10\n",
    "A = 20*(0.5 - np.random.random((30, 5)))\n",
    "\n",
    "# random vector\n",
    "v = 20*(0.5 - np.random.random(30))"
   ]
  },
  {
   "cell_type": "markdown",
   "metadata": {},
   "source": [
    "The function returns the solution `x`, the residuals `res`, the effective rank of the matrix `rank`, and the singular values of the matrix `s`."
   ]
  },
  {
   "cell_type": "code",
   "execution_count": 10,
   "metadata": {},
   "outputs": [],
   "source": [
    "x, res, rank, s = linalg.lstsq(A, v)"
   ]
  },
  {
   "cell_type": "code",
   "execution_count": 11,
   "metadata": {},
   "outputs": [
    {
     "data": {
      "text/plain": [
       "25.33943499894492"
      ]
     },
     "execution_count": 11,
     "metadata": {},
     "output_type": "execute_result"
    }
   ],
   "source": [
    "linalg.norm(A @ x - v)"
   ]
  },
  {
   "cell_type": "code",
   "execution_count": 12,
   "metadata": {},
   "outputs": [
    {
     "data": {
      "text/plain": [
       "25.33943499894492"
      ]
     },
     "execution_count": 12,
     "metadata": {},
     "output_type": "execute_result"
    }
   ],
   "source": [
    "np.sqrt(np.sum(res))"
   ]
  },
  {
   "cell_type": "markdown",
   "metadata": {},
   "source": [
    "<a id=\"eigenvalue-problem\"></a>\n",
    "## Eigenvalue problem\n",
    "\n",
    "The `linalg.eig` function can be used to solve an ordinary or generalized eigenvalue problem.\n",
    "\n",
    "I will elaborate on this topic in another tutorial.\n",
    "\n",
    "Today I will just say that if the matrix $A$ is diagonalizable, then this function returns the eigevalues and normalized eigenvectors."
   ]
  },
  {
   "cell_type": "code",
   "execution_count": 13,
   "metadata": {},
   "outputs": [],
   "source": [
    "w, v = linalg.eig(M)"
   ]
  },
  {
   "cell_type": "markdown",
   "metadata": {},
   "source": [
    "Here $w=(w_0,...,w_{n-1})$ are the eigenvalues, and the eigenvectors are stored in the columns of `v` as $v=(v_0,...,v_{n-1})$.\n",
    "\n",
    "Note that $\\Vert w_i v_i - M v_i\\Vert = 0$."
   ]
  },
  {
   "cell_type": "code",
   "execution_count": 14,
   "metadata": {},
   "outputs": [
    {
     "name": "stdout",
     "output_type": "stream",
     "text": [
      "9.236228198169747e-15\n",
      "1.0995132274107486e-14\n",
      "9.671254982428856e-15\n",
      "9.671254982428856e-15\n",
      "7.57732297728375e-15\n"
     ]
    }
   ],
   "source": [
    "for i in range(len(w)):\n",
    "    print(linalg.norm(w[i] * v[:,i]  - M @ v[:,i]))"
   ]
  },
  {
   "cell_type": "markdown",
   "metadata": {},
   "source": [
    "When only the eigenvalues are required you can use the `linalg.eigvals` function.\n",
    "\n",
    "If you are certain that the matrix is Hermitian, you can use the `linalg.eigh` and `linalg.eigvalsh` instead.\n",
    "\n",
    "**WARNING:** If your matrix is NOT Hermitian but you strill try to use the Hermitian-specific implementation of the fucntion, you will get a result. _It won't rise an error_. I don't know what those numbers are, but they are not the eigenvalues!"
   ]
  },
  {
   "cell_type": "markdown",
   "metadata": {},
   "source": [
    "You can also compute the singluar values and singular value decomposition with `linalg.svdvals` and `linalg.svd`.\n",
    "\n",
    "I will elaborate on this in another tutorial."
   ]
  },
  {
   "cell_type": "markdown",
   "metadata": {},
   "source": [
    "<a id=\"matrix-functions\"></a>\n",
    "## Matrix functions\n",
    "\n",
    "Matrix functions will also be the topic of a tutorial.\n",
    "\n",
    "For now, just get the idea that if $f$ is a fucntion then $f(A)$ is generally different to applying $f(a_{ij})$ elementwise.\n",
    "\n",
    "Although it is equivalent to the element-wise application when the matrix is diagonal\n",
    "\n",
    "$$\n",
    "f(D)=\n",
    "\\begin{pmatrix}\n",
    "f(d_1) & & \\\\\n",
    " & \\ddots & \\\\\n",
    " & & f(d_n)\n",
    "\\end{pmatrix}\n",
    "$$\n",
    "\n",
    "when the matrix is diagonalizable with $A=X D X^{-1}$ it is\n",
    "\n",
    "$$\n",
    "f(A) = X f(D) X^{-1}\n",
    "$$\n",
    "\n",
    "There are proper generalizations for other matrices. But we will see this in another tutorial."
   ]
  },
  {
   "cell_type": "code",
   "execution_count": 15,
   "metadata": {},
   "outputs": [],
   "source": [
    "em = linalg.expm(M)\n",
    "lm = linalg.logm(M)"
   ]
  },
  {
   "cell_type": "code",
   "execution_count": 16,
   "metadata": {},
   "outputs": [
    {
     "data": {
      "text/plain": [
       "1.3359560966687505e-13"
      ]
     },
     "execution_count": 16,
     "metadata": {},
     "output_type": "execute_result"
    }
   ],
   "source": [
    "# Note that exp(log(A)) = A\n",
    "linalg.norm(M - linalg.expm(lm))"
   ]
  },
  {
   "cell_type": "code",
   "execution_count": 17,
   "metadata": {},
   "outputs": [
    {
     "data": {
      "text/plain": [
       "13.606326904607023"
      ]
     },
     "execution_count": 17,
     "metadata": {},
     "output_type": "execute_result"
    }
   ],
   "source": [
    "# But, in general log(exp(A)) != A\n",
    "# Due to complex eigenvalues\n",
    "linalg.norm(M - linalg.logm(em))"
   ]
  },
  {
   "cell_type": "code",
   "execution_count": 18,
   "metadata": {},
   "outputs": [
    {
     "data": {
      "text/plain": [
       "((3.75144782+0.40319077282041316j), (3.7514478200000014+6.6863760800000005j))"
      ]
     },
     "execution_count": 18,
     "metadata": {},
     "output_type": "execute_result"
    }
   ],
   "source": [
    "# Indeed, some eigenvalues of M are complex\n",
    "# Eg 3.75144782+6.68637608j\n",
    "np.log(np.exp(3.75144782+6.68637608j)), np.exp(np.log(3.75144782+6.68637608j))"
   ]
  },
  {
   "cell_type": "code",
   "execution_count": 19,
   "metadata": {},
   "outputs": [],
   "source": [
    "sm = linalg.sinm(M)\n",
    "cm = linalg.cosm(M)"
   ]
  },
  {
   "cell_type": "code",
   "execution_count": 20,
   "metadata": {},
   "outputs": [
    {
     "data": {
      "text/plain": [
       "1.397724998248132e-10"
      ]
     },
     "execution_count": 20,
     "metadata": {},
     "output_type": "execute_result"
    }
   ],
   "source": [
    "# Note that sin(A)^2 + cos(A)^2 = I\n",
    "linalg.norm(sm @ sm + cm @ cm - np.identity(M.shape[0]))"
   ]
  },
  {
   "cell_type": "code",
   "execution_count": 21,
   "metadata": {},
   "outputs": [],
   "source": [
    "sqm = linalg.sqrtm(M)"
   ]
  },
  {
   "cell_type": "code",
   "execution_count": 22,
   "metadata": {},
   "outputs": [
    {
     "data": {
      "text/plain": [
       "9.746887257134819e-14"
      ]
     },
     "execution_count": 22,
     "metadata": {},
     "output_type": "execute_result"
    }
   ],
   "source": [
    "# Note that sqm @ sqm = M\n",
    "linalg.norm(sqm @ sqm - M)"
   ]
  },
  {
   "cell_type": "code",
   "execution_count": 23,
   "metadata": {},
   "outputs": [
    {
     "data": {
      "text/plain": [
       "41.545328053531506"
      ]
     },
     "execution_count": 23,
     "metadata": {},
     "output_type": "execute_result"
    }
   ],
   "source": [
    "# But not elementwise\n",
    "linalg.norm(sqm * sqm - M)"
   ]
  },
  {
   "cell_type": "markdown",
   "metadata": {},
   "source": [
    "## Further reading\n",
    "\n",
    "I strongly recomend the [scipy.linalg documentation](https://docs.scipy.org/doc/scipy/reference/linalg.html).\n",
    "\n",
    "But it can be overwelming to start with.\n",
    "\n",
    "Use it to read the documentation of a specific function."
   ]
  }
 ],
 "metadata": {
  "kernelspec": {
   "display_name": "Python 3",
   "language": "python",
   "name": "python3"
  },
  "language_info": {
   "codemirror_mode": {
    "name": "ipython",
    "version": 3
   },
   "file_extension": ".py",
   "mimetype": "text/x-python",
   "name": "python",
   "nbconvert_exporter": "python",
   "pygments_lexer": "ipython3",
   "version": "3.7.2"
  }
 },
 "nbformat": 4,
 "nbformat_minor": 2
}
